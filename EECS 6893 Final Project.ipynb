{
  "nbformat": 4,
  "nbformat_minor": 0,
  "metadata": {
    "colab": {
      "provenance": []
    },
    "kernelspec": {
      "name": "python3",
      "display_name": "Python 3"
    },
    "language_info": {
      "name": "python"
    }
  },
  "cells": [
    {
      "cell_type": "code",
      "execution_count": null,
      "metadata": {
        "id": "ClE7f_CF2_5g"
      },
      "outputs": [],
      "source": [
        "from google.colab import auth\n",
        "\n",
        "auth.authenticate_user()"
      ]
    },
    {
      "cell_type": "code",
      "source": [
        "!echo “deb http://packages.cloud.google.com/apt gcsfuse-bionic main” > /etc/apt/sources.list.d/gcsfuse.list\n",
        "\n",
        "!curl https://packages.cloud.google.com/apt/doc/apt-key.gpg | apt-key add -\n",
        "\n",
        "!apt -qq update\n",
        "\n",
        "!apt -qq install gcsfuse"
      ],
      "metadata": {
        "colab": {
          "base_uri": "https://localhost:8080/"
        },
        "id": "2WgG2vip3Mja",
        "outputId": "3fc83513-5050-485d-bc60-d91906ce90ae"
      },
      "execution_count": null,
      "outputs": [
        {
          "output_type": "stream",
          "name": "stdout",
          "text": [
            "  % Total    % Received % Xferd  Average Speed   Time    Time     Time  Current\n",
            "                                 Dload  Upload   Total   Spent    Left  Speed\n",
            "\r  0     0    0     0    0     0      0      0 --:--:-- --:--:-- --:--:--     0\r100  2426  100  2426    0     0  63842      0 --:--:-- --:--:-- --:--:-- 63842\n",
            "OK\n",
            "E: Type '“deb' is not known on line 1 in source list /etc/apt/sources.list.d/gcsfuse.list\n",
            "E: The list of sources could not be read.\n",
            "E: Type '“deb' is not known on line 1 in source list /etc/apt/sources.list.d/gcsfuse.list\n",
            "E: The list of sources could not be read.\n",
            "E: Type '“deb' is not known on line 1 in source list /etc/apt/sources.list.d/gcsfuse.list\n",
            "E: The list of sources could not be read.\n"
          ]
        }
      ]
    },
    {
      "cell_type": "code",
      "source": [
        "!gcsfuse --implicit-dirs finalxx colab_direcoty"
      ],
      "metadata": {
        "colab": {
          "base_uri": "https://localhost:8080/"
        },
        "id": "ZuEDkM4E3Xfa",
        "outputId": "c29f8815-d6b9-4760-9953-8cae30386c3e"
      },
      "execution_count": null,
      "outputs": [
        {
          "output_type": "stream",
          "name": "stdout",
          "text": [
            "/bin/bash: gcsfuse: command not found\n"
          ]
        }
      ]
    },
    {
      "cell_type": "code",
      "source": [
        "import os\n",
        "import numpy as np\n",
        "import tensorflow as tf\n",
        "from tensorflow import keras\n",
        "import keras.backend as K\n",
        "from sklearn import preprocessing\n",
        "from sklearn import metrics\n",
        "from sklearn.metrics import confusion_matrix\n",
        "import scipy.io as scio\n",
        "import warnings\n",
        "import pandas as pd\n",
        "import h5py\n",
        "import matplotlib.pyplot as plt"
      ],
      "metadata": {
        "id": "C6t4lx_R6FPC"
      },
      "execution_count": null,
      "outputs": []
    },
    {
      "cell_type": "code",
      "source": [
        " path_items='gs://finalxx/Experiment1.csv'"
      ],
      "metadata": {
        "id": "1QKD-23m6wgf"
      },
      "execution_count": null,
      "outputs": []
    },
    {
      "cell_type": "code",
      "source": [
        "path_items='Experiment1.csv'"
      ],
      "metadata": {
        "id": "P8h67KTzEtYR"
      },
      "execution_count": null,
      "outputs": []
    },
    {
      "cell_type": "code",
      "source": [
        "pip install gcsfs"
      ],
      "metadata": {
        "id": "BbJnqy687IHI"
      },
      "execution_count": null,
      "outputs": []
    },
    {
      "cell_type": "code",
      "source": [
        "df=pd.read_csv(path_items)"
      ],
      "metadata": {
        "id": "5HjK2gRf61Tx"
      },
      "execution_count": null,
      "outputs": []
    },
    {
      "cell_type": "code",
      "source": [
        "df=df.drop([0,1])"
      ],
      "metadata": {
        "id": "GHGhGkd67LHD"
      },
      "execution_count": null,
      "outputs": []
    },
    {
      "cell_type": "code",
      "source": [
        "df"
      ],
      "metadata": {
        "id": "5ChbwwOSCIJ2"
      },
      "execution_count": null,
      "outputs": []
    },
    {
      "cell_type": "code",
      "source": [
        "item=df.to_numpy()"
      ],
      "metadata": {
        "id": "12hE3us88DWc"
      },
      "execution_count": null,
      "outputs": []
    },
    {
      "cell_type": "code",
      "source": [
        "item.shape"
      ],
      "metadata": {
        "colab": {
          "base_uri": "https://localhost:8080/"
        },
        "id": "JhJG3Z8yCJu5",
        "outputId": "37681aa7-a472-43b7-ac47-ac9a0416e58c"
      },
      "execution_count": null,
      "outputs": [
        {
          "output_type": "execute_result",
          "data": {
            "text/plain": [
              "(1636, 22)"
            ]
          },
          "metadata": {},
          "execution_count": 6
        }
      ]
    },
    {
      "cell_type": "code",
      "source": [
        "ii=item"
      ],
      "metadata": {
        "id": "7V0lQCDtBTwX"
      },
      "execution_count": null,
      "outputs": []
    },
    {
      "cell_type": "code",
      "source": [
        "ii=np.repeat(ii,100,axis=0)"
      ],
      "metadata": {
        "id": "ZDfL3mrVBoCw"
      },
      "execution_count": null,
      "outputs": []
    },
    {
      "cell_type": "code",
      "source": [
        "ii.shape"
      ],
      "metadata": {
        "colab": {
          "base_uri": "https://localhost:8080/"
        },
        "id": "5_RwDC0BBvlB",
        "outputId": "49091b8d-a70a-46b7-d13d-0be19017aa3e"
      },
      "execution_count": null,
      "outputs": [
        {
          "output_type": "execute_result",
          "data": {
            "text/plain": [
              "(163600, 22)"
            ]
          },
          "metadata": {},
          "execution_count": 24
        }
      ]
    },
    {
      "cell_type": "code",
      "source": [
        "it=pd.DataFrame(aa3)"
      ],
      "metadata": {
        "id": "Ss3LQItJHQVY"
      },
      "execution_count": null,
      "outputs": []
    },
    {
      "cell_type": "code",
      "source": [
        "filepath = 'my_excel_file.mat'"
      ],
      "metadata": {
        "id": "g982ad3FO8Bx"
      },
      "execution_count": null,
      "outputs": []
    },
    {
      "cell_type": "code",
      "source": [
        "filepath = 'my_excel_file.mat'\n",
        "Ind = list(it.index)\n",
        "Col = list(it.columns)\n",
        "\n",
        "scio.savemat(filepath,{'data':df.values,'index':Ind,'cols':Col})"
      ],
      "metadata": {
        "id": "hx86XD97HX6B"
      },
      "execution_count": null,
      "outputs": []
    },
    {
      "cell_type": "code",
      "source": [
        "scio.savemat(filepath, {'name': aa3})"
      ],
      "metadata": {
        "id": "qPCI8zZvLXFO"
      },
      "execution_count": null,
      "outputs": []
    },
    {
      "cell_type": "code",
      "source": [
        "import scipy.io as scio"
      ],
      "metadata": {
        "id": "x1MsfpgNH3af"
      },
      "execution_count": null,
      "outputs": []
    },
    {
      "cell_type": "code",
      "source": [
        "a1=np.ones((28800,1))\n",
        "a2=2*np.ones((28900,1))\n",
        "a3=3*np.ones((28700,1))\n",
        "a4=4*np.ones((28800,1))\n",
        "a5=5*np.ones((28700,1))\n",
        "a6=6*np.ones((19700,1))\n",
        "aa1=np.vstack((a1,a2,a3,a4,a5,a6))"
      ],
      "metadata": {
        "id": "8R-1WnJP7_Si"
      },
      "execution_count": null,
      "outputs": []
    },
    {
      "cell_type": "code",
      "source": [
        "aa3=np.hstack((ii,aa1))"
      ],
      "metadata": {
        "id": "mBHt3Jv7F0fs"
      },
      "execution_count": null,
      "outputs": []
    },
    {
      "cell_type": "code",
      "source": [
        "aa3=np.hstack((item,aa1))"
      ],
      "metadata": {
        "id": "egb6Uktd8Hcr"
      },
      "execution_count": null,
      "outputs": []
    },
    {
      "cell_type": "code",
      "source": [
        "it=pd.DataFrame(aa3)"
      ],
      "metadata": {
        "id": "l2nL-m6q8Kqq"
      },
      "execution_count": null,
      "outputs": []
    },
    {
      "cell_type": "code",
      "source": [
        "from sklearn.model_selection import train_test_split\n",
        "X_train, X_test, Y_train, Y_test = train_test_split(ii, aa1, test_size=0.3, random_state=100)\n"
      ],
      "metadata": {
        "id": "-sFelV6Z8OGt"
      },
      "execution_count": null,
      "outputs": []
    },
    {
      "cell_type": "code",
      "source": [
        "from sklearn.neighbors import KNeighborsClassifier,RadiusNeighborsClassifier\n",
        "\n",
        "model1 = KNeighborsClassifier(n_neighbors=6)\n",
        "model1.fit(X_train, Y_train)\n",
        "from sklearn.metrics import confusion_matrix\n",
        "score1 = model1.score(X_test, Y_test)\n",
        "print(score1)"
      ],
      "metadata": {
        "id": "Vw4b7dhW-nh-"
      },
      "execution_count": null,
      "outputs": []
    },
    {
      "cell_type": "code",
      "source": [
        "!apt-get -y install openjdk-8-jre-headless\n",
        "!pip install pyspark\n",
        "from pyspark.sql import SparkSession\n",
        "from pyspark import SparkContext\n",
        "spark = SparkSession.builder.master(\"local\").getOrCreate()\n",
        "sc = SparkContext.getOrCreate()"
      ],
      "metadata": {
        "id": "0EeP6OkxQhir"
      },
      "execution_count": null,
      "outputs": []
    },
    {
      "cell_type": "code",
      "source": [
        "from pyspark.sql.types import *\n",
        "from pyspark.mllib.classification import SVMModel\n",
        "from pyspark.mllib.classification import SVMWithSGD\n",
        "from pyspark.mllib.regression import LabeledPoint\n",
        "from pyspark.mllib.evaluation import BinaryClassificationMetrics"
      ],
      "metadata": {
        "id": "OXjHxU9A-nrn"
      },
      "execution_count": null,
      "outputs": []
    },
    {
      "cell_type": "code",
      "source": [
        "data = spark.read.format(\"libsvm\").load(data)  \n",
        "labelIndexer = StringIndexer(inputCol=\"label\", outputCol=\"indexedLabel\").fit(data)\n",
        "featureIndexer=VectorIndexer(inputCol=\"features\", outputCol=\"indexedFeatures\", maxCategories=6).fit(data)\n",
        "(trainingData, testData) = data.randomSplit([0.7, 0.3])\n",
        "dt = DecisionTreeClassifier(labelCol=\"indexedLabel\", featuresCol=\"indexedFeatures\")\n",
        "pipeline = Pipeline(stages=[labelIndexer, featureIndexer, dt])\n",
        "model = pipeline.fit(trainingData)\n",
        "predictions = model.transform(testData)  \n",
        "predictions.select(\"prediction\", \"indexedLabel\", \"features\").show(5)  \n",
        "evaluator = MulticlassClassificationEvaluator(labelCol=\"indexedLabel\", predictionCol=\"prediction\", metricName=\"accuracy\")\n",
        "accuracy = evaluator.evaluate(predictions)\n",
        "print(\"Test Error = %g \" % (1.0 - accuracy))\n",
        "treeModel = model.stages[2]\n",
        "print('treeModelSummary: ',treeModel) "
      ],
      "metadata": {
        "id": "9oHFsXVtbZmr"
      },
      "execution_count": null,
      "outputs": []
    }
  ]
}